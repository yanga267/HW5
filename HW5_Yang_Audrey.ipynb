{
 "cells": [
  {
   "cell_type": "code",
   "execution_count": 1,
   "metadata": {},
   "outputs": [
    {
     "name": "stdout",
     "output_type": "stream",
     "text": [
      "5:30\n"
     ]
    }
   ],
   "source": [
    "class Clock():\n",
    "    def __init__(self, time):\n",
    "        self.time = time\n",
    "    def print_time(self):\n",
    "        time='6:30'\n",
    "        print(self.time)\n",
    "        \n",
    "clock=Clock('5:30')\n",
    "clock.print_time()"
   ]
  },
  {
   "cell_type": "code",
   "execution_count": 2,
   "metadata": {},
   "outputs": [
    {
     "name": "stdout",
     "output_type": "stream",
     "text": [
      "10:30\n"
     ]
    }
   ],
   "source": [
    "class Clock():\n",
    "    def __init__(self, time):\n",
    "        self.time=time\n",
    "    def print_time(self, time):\n",
    "        print(time)\n",
    "\n",
    "clock=Clock('5:30')\n",
    "clock.print_time('10:30')"
   ]
  },
  {
   "cell_type": "code",
   "execution_count": 3,
   "metadata": {},
   "outputs": [
    {
     "name": "stdout",
     "output_type": "stream",
     "text": [
      "5:30\n",
      "10:30\n"
     ]
    }
   ],
   "source": [
    "class Clock():\n",
    "    def __init__(self, time):\n",
    "        self.time=time\n",
    "    def print_time(self):\n",
    "        print(self.time)\n",
    "        \n",
    "class Clock1(Clock):\n",
    "    pass\n",
    "\n",
    "boston_clock=Clock('5:30')\n",
    "paris_clock=Clock1('10:30')\n",
    "\n",
    "boston_clock.print_time()\n",
    "paris_clock.print_time()\n"
   ]
  },
  {
   "cell_type": "code",
   "execution_count": 46,
   "metadata": {},
   "outputs": [
    {
     "name": "stdout",
     "output_type": "stream",
     "text": [
      "[5, 6]\n",
      "[6, 7]\n",
      "queue empty\n"
     ]
    }
   ],
   "source": [
    "class Queue:\n",
    "    #initiate empty list\n",
    "    def __init__(self):\n",
    "        self.items = []\n",
    "    \n",
    "    #print queue\n",
    "    def print(self):\n",
    "        print(self.items)\n",
    "    \n",
    "    #insert element at the end of list\n",
    "    def insert(self, item):\n",
    "        self.items.append(item)\n",
    "        \n",
    "    #remove first element of the list   \n",
    "    def remove(self):\n",
    "        if self.items==[]:\n",
    "            print('queue empty')\n",
    "        else:\n",
    "            self.items.pop(0)\n",
    "       \n",
    "        \n",
    "\n",
    "\n",
    "queue=Queue()\n",
    "queue.insert(5)\n",
    "queue.insert(6)\n",
    "queue.print()\n",
    "\n",
    "queue.insert(7)\n",
    "queue.remove()\n",
    "queue.print()\n",
    "\n",
    "queue.remove()\n",
    "queue.remove()\n",
    "queue.remove()\n",
    "\n"
   ]
  }
 ],
 "metadata": {
  "kernelspec": {
   "display_name": "Python 3",
   "language": "python",
   "name": "python3"
  },
  "language_info": {
   "codemirror_mode": {
    "name": "ipython",
    "version": 3
   },
   "file_extension": ".py",
   "mimetype": "text/x-python",
   "name": "python",
   "nbconvert_exporter": "python",
   "pygments_lexer": "ipython3",
   "version": "3.8.3"
  }
 },
 "nbformat": 4,
 "nbformat_minor": 4
}
